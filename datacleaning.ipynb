{
 "cells": [
  {
   "cell_type": "code",
   "execution_count": 1,
   "metadata": {},
   "outputs": [],
   "source": [
    "import pandas as pd"
   ]
  },
  {
   "cell_type": "code",
   "execution_count": 2,
   "metadata": {},
   "outputs": [],
   "source": [
    "appt_df = pd.read_csv(\"appointments.csv\")"
   ]
  },
  {
   "cell_type": "code",
   "execution_count": 3,
   "metadata": {},
   "outputs": [
    {
     "name": "stderr",
     "output_type": "stream",
     "text": [
      "C:\\Users\\orrin\\AppData\\Local\\Temp\\ipykernel_21132\\762346502.py:1: DtypeWarning: Columns (1) have mixed types. Specify dtype option on import or set low_memory=False.\n",
      "  px_df = pd.read_csv(\"px.csv\")\n"
     ]
    }
   ],
   "source": [
    "px_df = pd.read_csv(\"px.csv\")\n"
   ]
  },
  {
   "cell_type": "code",
   "execution_count": 4,
   "metadata": {},
   "outputs": [],
   "source": [
    "clinics_df = pd.read_csv(\"clinics1.csv\")"
   ]
  },
  {
   "cell_type": "code",
   "execution_count": 5,
   "metadata": {},
   "outputs": [],
   "source": [
    "doctors_df = pd.read_csv(\"doctors1.csv\")"
   ]
  },
  {
   "cell_type": "code",
   "execution_count": 6,
   "metadata": {},
   "outputs": [
    {
     "data": {
      "text/html": [
       "<div>\n",
       "<style scoped>\n",
       "    .dataframe tbody tr th:only-of-type {\n",
       "        vertical-align: middle;\n",
       "    }\n",
       "\n",
       "    .dataframe tbody tr th {\n",
       "        vertical-align: top;\n",
       "    }\n",
       "\n",
       "    .dataframe thead th {\n",
       "        text-align: right;\n",
       "    }\n",
       "</style>\n",
       "<table border=\"1\" class=\"dataframe\">\n",
       "  <thead>\n",
       "    <tr style=\"text-align: right;\">\n",
       "      <th></th>\n",
       "      <th>pxid</th>\n",
       "      <th>age</th>\n",
       "      <th>gender</th>\n",
       "    </tr>\n",
       "  </thead>\n",
       "  <tbody>\n",
       "    <tr>\n",
       "      <th>0</th>\n",
       "      <td>5A1718EC380AFE6BE24D63EE78CDA043</td>\n",
       "      <td>NaN</td>\n",
       "      <td>FEMALE</td>\n",
       "    </tr>\n",
       "    <tr>\n",
       "      <th>1</th>\n",
       "      <td>C0FC9D6384C7F579F1048A461C298B8C</td>\n",
       "      <td>8.0</td>\n",
       "      <td>FEMALE</td>\n",
       "    </tr>\n",
       "    <tr>\n",
       "      <th>2</th>\n",
       "      <td>FB0C4098E2F7FD0BC3865382242E7034</td>\n",
       "      <td>2.0</td>\n",
       "      <td>FEMALE</td>\n",
       "    </tr>\n",
       "    <tr>\n",
       "      <th>3</th>\n",
       "      <td>EB3C1CBD5A2AC52C69BE0B90C5E149A7</td>\n",
       "      <td>54.0</td>\n",
       "      <td>MALE</td>\n",
       "    </tr>\n",
       "    <tr>\n",
       "      <th>4</th>\n",
       "      <td>92C92C2EB4B51FBB3CD354165BA5F027</td>\n",
       "      <td>67.0</td>\n",
       "      <td>FEMALE</td>\n",
       "    </tr>\n",
       "    <tr>\n",
       "      <th>...</th>\n",
       "      <td>...</td>\n",
       "      <td>...</td>\n",
       "      <td>...</td>\n",
       "    </tr>\n",
       "    <tr>\n",
       "      <th>6507808</th>\n",
       "      <td>9D8045364678C651016538B78784720E</td>\n",
       "      <td>56</td>\n",
       "      <td>MALE</td>\n",
       "    </tr>\n",
       "    <tr>\n",
       "      <th>6507809</th>\n",
       "      <td>BCC86927CB7F687624859D5B7C9AB8B6</td>\n",
       "      <td>60</td>\n",
       "      <td>MALE</td>\n",
       "    </tr>\n",
       "    <tr>\n",
       "      <th>6507810</th>\n",
       "      <td>2890460EE1FD505905A0A55834EBDC06</td>\n",
       "      <td>17</td>\n",
       "      <td>FEMALE</td>\n",
       "    </tr>\n",
       "    <tr>\n",
       "      <th>6507811</th>\n",
       "      <td>3989D63FA4DD7C54911AA085CB7CF38A</td>\n",
       "      <td>62</td>\n",
       "      <td>MALE</td>\n",
       "    </tr>\n",
       "    <tr>\n",
       "      <th>6507812</th>\n",
       "      <td>80E396F35668298FED90AD2278A6D28D</td>\n",
       "      <td>46</td>\n",
       "      <td>FEMALE</td>\n",
       "    </tr>\n",
       "  </tbody>\n",
       "</table>\n",
       "<p>6507813 rows × 3 columns</p>\n",
       "</div>"
      ],
      "text/plain": [
       "                                     pxid   age  gender\n",
       "0        5A1718EC380AFE6BE24D63EE78CDA043   NaN  FEMALE\n",
       "1        C0FC9D6384C7F579F1048A461C298B8C   8.0  FEMALE\n",
       "2        FB0C4098E2F7FD0BC3865382242E7034   2.0  FEMALE\n",
       "3        EB3C1CBD5A2AC52C69BE0B90C5E149A7  54.0    MALE\n",
       "4        92C92C2EB4B51FBB3CD354165BA5F027  67.0  FEMALE\n",
       "...                                   ...   ...     ...\n",
       "6507808  9D8045364678C651016538B78784720E    56    MALE\n",
       "6507809  BCC86927CB7F687624859D5B7C9AB8B6    60    MALE\n",
       "6507810  2890460EE1FD505905A0A55834EBDC06    17  FEMALE\n",
       "6507811  3989D63FA4DD7C54911AA085CB7CF38A    62    MALE\n",
       "6507812  80E396F35668298FED90AD2278A6D28D    46  FEMALE\n",
       "\n",
       "[6507813 rows x 3 columns]"
      ]
     },
     "execution_count": 6,
     "metadata": {},
     "output_type": "execute_result"
    }
   ],
   "source": [
    "px_df"
   ]
  },
  {
   "cell_type": "code",
   "execution_count": 7,
   "metadata": {},
   "outputs": [
    {
     "data": {
      "text/html": [
       "<div>\n",
       "<style scoped>\n",
       "    .dataframe tbody tr th:only-of-type {\n",
       "        vertical-align: middle;\n",
       "    }\n",
       "\n",
       "    .dataframe tbody tr th {\n",
       "        vertical-align: top;\n",
       "    }\n",
       "\n",
       "    .dataframe thead th {\n",
       "        text-align: right;\n",
       "    }\n",
       "</style>\n",
       "<table border=\"1\" class=\"dataframe\">\n",
       "  <thead>\n",
       "    <tr style=\"text-align: right;\">\n",
       "      <th></th>\n",
       "      <th>clinicid</th>\n",
       "      <th>hospitalname</th>\n",
       "      <th>IsHospital</th>\n",
       "      <th>City</th>\n",
       "      <th>Province</th>\n",
       "      <th>RegionName</th>\n",
       "    </tr>\n",
       "  </thead>\n",
       "  <tbody>\n",
       "    <tr>\n",
       "      <th>0</th>\n",
       "      <td>77EE3BC58CE560B86C2B59363281E914</td>\n",
       "      <td>St. Luke's Medical Center-Global City</td>\n",
       "      <td>True</td>\n",
       "      <td>Taguig</td>\n",
       "      <td>Manila</td>\n",
       "      <td>National Capital Region (NCR)</td>\n",
       "    </tr>\n",
       "    <tr>\n",
       "      <th>1</th>\n",
       "      <td>98C39996BF1543E974747A2549B3107C</td>\n",
       "      <td>Our Lady of Lourdes Hospital</td>\n",
       "      <td>True</td>\n",
       "      <td>Manila</td>\n",
       "      <td>Manila</td>\n",
       "      <td>National Capital Region (NCR)</td>\n",
       "    </tr>\n",
       "    <tr>\n",
       "      <th>2</th>\n",
       "      <td>9AEADE7BEADA35C83D3B344FBAFE43B0</td>\n",
       "      <td>Makati Medical Center</td>\n",
       "      <td>True</td>\n",
       "      <td>Makati</td>\n",
       "      <td>Manila</td>\n",
       "      <td>National Capital Region (NCR)</td>\n",
       "    </tr>\n",
       "    <tr>\n",
       "      <th>3</th>\n",
       "      <td>FDBD31F2027F20378B1A80125FC862DB</td>\n",
       "      <td>Cardinal Santos Medical Center</td>\n",
       "      <td>True</td>\n",
       "      <td>San Juan</td>\n",
       "      <td>Manila</td>\n",
       "      <td>National Capital Region (NCR)</td>\n",
       "    </tr>\n",
       "    <tr>\n",
       "      <th>4</th>\n",
       "      <td>205C3608ECB984C1F5F5D2F52C934428</td>\n",
       "      <td>NaN</td>\n",
       "      <td>False</td>\n",
       "      <td>Burgos</td>\n",
       "      <td>Ilocos Sur</td>\n",
       "      <td>Ilocos Region (I)</td>\n",
       "    </tr>\n",
       "    <tr>\n",
       "      <th>...</th>\n",
       "      <td>...</td>\n",
       "      <td>...</td>\n",
       "      <td>...</td>\n",
       "      <td>...</td>\n",
       "      <td>...</td>\n",
       "      <td>...</td>\n",
       "    </tr>\n",
       "    <tr>\n",
       "      <th>53957</th>\n",
       "      <td>8DE279A56DBCECE9F9FFC514A7D5A378</td>\n",
       "      <td>NaN</td>\n",
       "      <td>False</td>\n",
       "      <td>Manila</td>\n",
       "      <td>Manila</td>\n",
       "      <td>National Capital Region (NCR)</td>\n",
       "    </tr>\n",
       "    <tr>\n",
       "      <th>53958</th>\n",
       "      <td>55A64961C9AA4134016786AE7202682E</td>\n",
       "      <td>NaN</td>\n",
       "      <td>False</td>\n",
       "      <td>Manila</td>\n",
       "      <td>Manila</td>\n",
       "      <td>National Capital Region (NCR)</td>\n",
       "    </tr>\n",
       "    <tr>\n",
       "      <th>53959</th>\n",
       "      <td>075E464A7D15E6E5B9D8F8F5B5B16BB9</td>\n",
       "      <td>NaN</td>\n",
       "      <td>False</td>\n",
       "      <td>Manila</td>\n",
       "      <td>Manila</td>\n",
       "      <td>National Capital Region (NCR)</td>\n",
       "    </tr>\n",
       "    <tr>\n",
       "      <th>53960</th>\n",
       "      <td>01063BCF7624297FBB408495BCB62904</td>\n",
       "      <td>Malabon Hospital and Medical Center</td>\n",
       "      <td>True</td>\n",
       "      <td>Malabon</td>\n",
       "      <td>Manila</td>\n",
       "      <td>National Capital Region (NCR)</td>\n",
       "    </tr>\n",
       "    <tr>\n",
       "      <th>53961</th>\n",
       "      <td>5DA48026B54B6EEB6062817CAA7C30EA</td>\n",
       "      <td>NaN</td>\n",
       "      <td>False</td>\n",
       "      <td>Malabon</td>\n",
       "      <td>Manila</td>\n",
       "      <td>National Capital Region (NCR)</td>\n",
       "    </tr>\n",
       "  </tbody>\n",
       "</table>\n",
       "<p>53962 rows × 6 columns</p>\n",
       "</div>"
      ],
      "text/plain": [
       "                               clinicid  \\\n",
       "0      77EE3BC58CE560B86C2B59363281E914   \n",
       "1      98C39996BF1543E974747A2549B3107C   \n",
       "2      9AEADE7BEADA35C83D3B344FBAFE43B0   \n",
       "3      FDBD31F2027F20378B1A80125FC862DB   \n",
       "4      205C3608ECB984C1F5F5D2F52C934428   \n",
       "...                                 ...   \n",
       "53957  8DE279A56DBCECE9F9FFC514A7D5A378   \n",
       "53958  55A64961C9AA4134016786AE7202682E   \n",
       "53959  075E464A7D15E6E5B9D8F8F5B5B16BB9   \n",
       "53960  01063BCF7624297FBB408495BCB62904   \n",
       "53961  5DA48026B54B6EEB6062817CAA7C30EA   \n",
       "\n",
       "                                hospitalname  IsHospital      City  \\\n",
       "0      St. Luke's Medical Center-Global City        True    Taguig   \n",
       "1               Our Lady of Lourdes Hospital        True    Manila   \n",
       "2                      Makati Medical Center        True    Makati   \n",
       "3             Cardinal Santos Medical Center        True  San Juan   \n",
       "4                                        NaN       False    Burgos   \n",
       "...                                      ...         ...       ...   \n",
       "53957                                    NaN       False    Manila   \n",
       "53958                                    NaN       False    Manila   \n",
       "53959                                    NaN       False    Manila   \n",
       "53960    Malabon Hospital and Medical Center        True   Malabon   \n",
       "53961                                    NaN       False   Malabon   \n",
       "\n",
       "         Province                     RegionName  \n",
       "0          Manila  National Capital Region (NCR)  \n",
       "1          Manila  National Capital Region (NCR)  \n",
       "2          Manila  National Capital Region (NCR)  \n",
       "3          Manila  National Capital Region (NCR)  \n",
       "4      Ilocos Sur              Ilocos Region (I)  \n",
       "...           ...                            ...  \n",
       "53957      Manila  National Capital Region (NCR)  \n",
       "53958      Manila  National Capital Region (NCR)  \n",
       "53959      Manila  National Capital Region (NCR)  \n",
       "53960      Manila  National Capital Region (NCR)  \n",
       "53961      Manila  National Capital Region (NCR)  \n",
       "\n",
       "[53962 rows x 6 columns]"
      ]
     },
     "execution_count": 7,
     "metadata": {},
     "output_type": "execute_result"
    }
   ],
   "source": [
    "clinics_df"
   ]
  },
  {
   "cell_type": "code",
   "execution_count": 8,
   "metadata": {},
   "outputs": [
    {
     "data": {
      "text/html": [
       "<div>\n",
       "<style scoped>\n",
       "    .dataframe tbody tr th:only-of-type {\n",
       "        vertical-align: middle;\n",
       "    }\n",
       "\n",
       "    .dataframe tbody tr th {\n",
       "        vertical-align: top;\n",
       "    }\n",
       "\n",
       "    .dataframe thead th {\n",
       "        text-align: right;\n",
       "    }\n",
       "</style>\n",
       "<table border=\"1\" class=\"dataframe\">\n",
       "  <thead>\n",
       "    <tr style=\"text-align: right;\">\n",
       "      <th></th>\n",
       "      <th>doctorid</th>\n",
       "      <th>mainspecialty</th>\n",
       "      <th>age</th>\n",
       "    </tr>\n",
       "  </thead>\n",
       "  <tbody>\n",
       "    <tr>\n",
       "      <th>0</th>\n",
       "      <td>AD61AB143223EFBC24C7D2583BE69251</td>\n",
       "      <td>General Medicine</td>\n",
       "      <td>41.0</td>\n",
       "    </tr>\n",
       "    <tr>\n",
       "      <th>1</th>\n",
       "      <td>D09BF41544A3365A46C9077EBB5E35C3</td>\n",
       "      <td>Family Medicine</td>\n",
       "      <td>43.0</td>\n",
       "    </tr>\n",
       "    <tr>\n",
       "      <th>2</th>\n",
       "      <td>FBD7939D674997CDB4692D34DE8633C4</td>\n",
       "      <td>Vascular Medicine</td>\n",
       "      <td>26.0</td>\n",
       "    </tr>\n",
       "    <tr>\n",
       "      <th>3</th>\n",
       "      <td>28DD2C7955CE926456240B2FF0100BDE</td>\n",
       "      <td>Otolaryngologists</td>\n",
       "      <td>34.0</td>\n",
       "    </tr>\n",
       "    <tr>\n",
       "      <th>4</th>\n",
       "      <td>35F4A8D465E6E1EDC05F3D8AB658C551</td>\n",
       "      <td>General Dentistry</td>\n",
       "      <td>50.0</td>\n",
       "    </tr>\n",
       "    <tr>\n",
       "      <th>...</th>\n",
       "      <td>...</td>\n",
       "      <td>...</td>\n",
       "      <td>...</td>\n",
       "    </tr>\n",
       "    <tr>\n",
       "      <th>60019</th>\n",
       "      <td>CD532DBEF6547A66D2138FAB49AA3B94</td>\n",
       "      <td>General Practitioner</td>\n",
       "      <td>33.0</td>\n",
       "    </tr>\n",
       "    <tr>\n",
       "      <th>60020</th>\n",
       "      <td>4473D870B5E31FAA40D2C45E1FF6DC27</td>\n",
       "      <td>NaN</td>\n",
       "      <td>NaN</td>\n",
       "    </tr>\n",
       "    <tr>\n",
       "      <th>60021</th>\n",
       "      <td>A4F554EB2C0934E7FDE2511E8C1573BA</td>\n",
       "      <td>NaN</td>\n",
       "      <td>NaN</td>\n",
       "    </tr>\n",
       "    <tr>\n",
       "      <th>60022</th>\n",
       "      <td>E540A361D93D37A33BB2F55D43DA79D9</td>\n",
       "      <td>General Practitioner</td>\n",
       "      <td>NaN</td>\n",
       "    </tr>\n",
       "    <tr>\n",
       "      <th>60023</th>\n",
       "      <td>23BA85862DD19C3550E7C0F0AF84C7ED</td>\n",
       "      <td>Internal Medicine</td>\n",
       "      <td>38.0</td>\n",
       "    </tr>\n",
       "  </tbody>\n",
       "</table>\n",
       "<p>60024 rows × 3 columns</p>\n",
       "</div>"
      ],
      "text/plain": [
       "                               doctorid         mainspecialty   age\n",
       "0      AD61AB143223EFBC24C7D2583BE69251      General Medicine  41.0\n",
       "1      D09BF41544A3365A46C9077EBB5E35C3       Family Medicine  43.0\n",
       "2      FBD7939D674997CDB4692D34DE8633C4     Vascular Medicine  26.0\n",
       "3      28DD2C7955CE926456240B2FF0100BDE     Otolaryngologists  34.0\n",
       "4      35F4A8D465E6E1EDC05F3D8AB658C551     General Dentistry  50.0\n",
       "...                                 ...                   ...   ...\n",
       "60019  CD532DBEF6547A66D2138FAB49AA3B94  General Practitioner  33.0\n",
       "60020  4473D870B5E31FAA40D2C45E1FF6DC27                   NaN   NaN\n",
       "60021  A4F554EB2C0934E7FDE2511E8C1573BA                   NaN   NaN\n",
       "60022  E540A361D93D37A33BB2F55D43DA79D9  General Practitioner   NaN\n",
       "60023  23BA85862DD19C3550E7C0F0AF84C7ED     Internal Medicine  38.0\n",
       "\n",
       "[60024 rows x 3 columns]"
      ]
     },
     "execution_count": 8,
     "metadata": {},
     "output_type": "execute_result"
    }
   ],
   "source": [
    "doctors_df"
   ]
  },
  {
   "cell_type": "code",
   "execution_count": 9,
   "metadata": {},
   "outputs": [
    {
     "name": "stdout",
     "output_type": "stream",
     "text": [
      "(6507813, 3)\n"
     ]
    },
    {
     "name": "stdout",
     "output_type": "stream",
     "text": [
      "(6495591, 3)\n"
     ]
    }
   ],
   "source": [
    "# drop all px with null age\n",
    "print(px_df.shape)\n",
    "px_df = px_df.dropna(subset=['age'])\n",
    "print(px_df.shape)"
   ]
  },
  {
   "cell_type": "code",
   "execution_count": 10,
   "metadata": {},
   "outputs": [
    {
     "data": {
      "text/plain": [
       "False"
      ]
     },
     "execution_count": 10,
     "metadata": {},
     "output_type": "execute_result"
    }
   ],
   "source": [
    "#check if all pxid are unique\n",
    "px_df['pxid'].is_unique"
   ]
  },
  {
   "cell_type": "code",
   "execution_count": 11,
   "metadata": {},
   "outputs": [
    {
     "name": "stdout",
     "output_type": "stream",
     "text": [
      "True\n"
     ]
    }
   ],
   "source": [
    "# drop all non unique pxid\n",
    "px_df = px_df.drop_duplicates(subset=['pxid'])\n",
    "print(px_df['pxid'].is_unique)"
   ]
  },
  {
   "cell_type": "code",
   "execution_count": 12,
   "metadata": {},
   "outputs": [],
   "source": [
    "# check if age has non numeric values\n",
    "px_df['age'] = pd.to_numeric(px_df['age'], errors='coerce')"
   ]
  },
  {
   "cell_type": "code",
   "execution_count": 13,
   "metadata": {},
   "outputs": [
    {
     "name": "stdout",
     "output_type": "stream",
     "text": [
      "(5502484, 3)\n",
      "(5502483, 3)\n"
     ]
    }
   ],
   "source": [
    "# drop all non numeric age\n",
    "print(px_df.shape)\n",
    "px_df = px_df.dropna(subset=['age'])\n",
    "print(px_df.shape)"
   ]
  },
  {
   "cell_type": "code",
   "execution_count": 14,
   "metadata": {},
   "outputs": [
    {
     "name": "stdout",
     "output_type": "stream",
     "text": [
      "int32\n"
     ]
    }
   ],
   "source": [
    "# change age to int\n",
    "px_df['age'] = px_df['age'].astype(int)\n",
    "print(px_df['age'].dtype)"
   ]
  },
  {
   "cell_type": "code",
   "execution_count": 15,
   "metadata": {},
   "outputs": [
    {
     "data": {
      "text/html": [
       "<div>\n",
       "<style scoped>\n",
       "    .dataframe tbody tr th:only-of-type {\n",
       "        vertical-align: middle;\n",
       "    }\n",
       "\n",
       "    .dataframe tbody tr th {\n",
       "        vertical-align: top;\n",
       "    }\n",
       "\n",
       "    .dataframe thead th {\n",
       "        text-align: right;\n",
       "    }\n",
       "</style>\n",
       "<table border=\"1\" class=\"dataframe\">\n",
       "  <thead>\n",
       "    <tr style=\"text-align: right;\">\n",
       "      <th></th>\n",
       "      <th>pxid</th>\n",
       "      <th>clinicid</th>\n",
       "      <th>doctorid</th>\n",
       "      <th>apptid</th>\n",
       "      <th>status</th>\n",
       "      <th>TimeQueued</th>\n",
       "      <th>QueueDate</th>\n",
       "      <th>StartTime</th>\n",
       "      <th>EndTime</th>\n",
       "      <th>type</th>\n",
       "      <th>Virtual</th>\n",
       "    </tr>\n",
       "  </thead>\n",
       "  <tbody>\n",
       "    <tr>\n",
       "      <th>0</th>\n",
       "      <td>EF196B348A49FB32DABC9834DC4FAAD9</td>\n",
       "      <td>ADF7EE2DCF142B0E11888E72B43FCB75</td>\n",
       "      <td>BB04AF0F7ECAEE4AAE62035497DA1387</td>\n",
       "      <td>C1CC0949B93D00A559F7A0BD38361E80</td>\n",
       "      <td>Complete</td>\n",
       "      <td>2018-04-11 01:59:58</td>\n",
       "      <td>2018-04-10 16:00:00</td>\n",
       "      <td>NaN</td>\n",
       "      <td>NaN</td>\n",
       "      <td>Consultation</td>\n",
       "      <td>NaN</td>\n",
       "    </tr>\n",
       "    <tr>\n",
       "      <th>1</th>\n",
       "      <td>EAE3C87D0B33351272F2E9B9B1B56217</td>\n",
       "      <td>1E0F65EB20ACBFB27EE05DDC000B50EC</td>\n",
       "      <td>82AA4B0AF34C2313A562076992E50AA3</td>\n",
       "      <td>6585A31C60A1886FBA1433C50012B504</td>\n",
       "      <td>Queued</td>\n",
       "      <td>2018-04-10 10:34:16</td>\n",
       "      <td>2018-04-08 16:00:00</td>\n",
       "      <td>2018-04-09 10:33:00</td>\n",
       "      <td>2018-04-12 05:29:57</td>\n",
       "      <td>Inpatient</td>\n",
       "      <td>NaN</td>\n",
       "    </tr>\n",
       "    <tr>\n",
       "      <th>2</th>\n",
       "      <td>7C5C93809D626CC702D08F33985B2B58</td>\n",
       "      <td>1E0F65EB20ACBFB27EE05DDC000B50EC</td>\n",
       "      <td>82AA4B0AF34C2313A562076992E50AA3</td>\n",
       "      <td>7250DCFF615E6580295C7E6ED4322371</td>\n",
       "      <td>Queued</td>\n",
       "      <td>2018-04-03 15:26:19</td>\n",
       "      <td>2018-03-30 16:00:00</td>\n",
       "      <td>2018-03-31 15:25:00</td>\n",
       "      <td>2018-04-05 15:51:47</td>\n",
       "      <td>Inpatient</td>\n",
       "      <td>NaN</td>\n",
       "    </tr>\n",
       "    <tr>\n",
       "      <th>3</th>\n",
       "      <td>C300C2B9E0E5D4C46E8093BCDBFA05CA</td>\n",
       "      <td>98C39996BF1543E974747A2549B3107C</td>\n",
       "      <td>AD61AB143223EFBC24C7D2583BE69251</td>\n",
       "      <td>F5BBDCC08E39332F0AC27BB95CF1396A</td>\n",
       "      <td>Queued</td>\n",
       "      <td>2015-11-24 08:01:13.920000000</td>\n",
       "      <td>NaN</td>\n",
       "      <td>NaN</td>\n",
       "      <td>NaN</td>\n",
       "      <td>Consultation</td>\n",
       "      <td>NaN</td>\n",
       "    </tr>\n",
       "    <tr>\n",
       "      <th>4</th>\n",
       "      <td>B3DBE7F9E4DC33CBC5660E0A923CF8E8</td>\n",
       "      <td>77EE3BC58CE560B86C2B59363281E914</td>\n",
       "      <td>AD61AB143223EFBC24C7D2583BE69251</td>\n",
       "      <td>55783FB42A02DABC3B2ED239B924DC87</td>\n",
       "      <td>Queued</td>\n",
       "      <td>2015-11-24 08:01:00.420000000</td>\n",
       "      <td>NaN</td>\n",
       "      <td>NaN</td>\n",
       "      <td>NaN</td>\n",
       "      <td>Consultation</td>\n",
       "      <td>NaN</td>\n",
       "    </tr>\n",
       "    <tr>\n",
       "      <th>...</th>\n",
       "      <td>...</td>\n",
       "      <td>...</td>\n",
       "      <td>...</td>\n",
       "      <td>...</td>\n",
       "      <td>...</td>\n",
       "      <td>...</td>\n",
       "      <td>...</td>\n",
       "      <td>...</td>\n",
       "      <td>...</td>\n",
       "      <td>...</td>\n",
       "      <td>...</td>\n",
       "    </tr>\n",
       "    <tr>\n",
       "      <th>9752927</th>\n",
       "      <td>2583E761CF4CAB4813AAEAFDAA883CC6</td>\n",
       "      <td>CCFC2D538DDFF519D893A6B966A1C4F1</td>\n",
       "      <td>B706835DE79A2B4E80506F582AF3676A</td>\n",
       "      <td>215A26E2E5B831D87C41A5C1CC382B1C</td>\n",
       "      <td>Queued</td>\n",
       "      <td>2023-11-20 00:34:25.337000000</td>\n",
       "      <td>2023-11-22 16:00:00</td>\n",
       "      <td>NaN</td>\n",
       "      <td>NaN</td>\n",
       "      <td>Consultation</td>\n",
       "      <td>False</td>\n",
       "    </tr>\n",
       "    <tr>\n",
       "      <th>9752928</th>\n",
       "      <td>F51E6BF96EA5028AE5F5C01EBF08E3BD</td>\n",
       "      <td>CCFC2D538DDFF519D893A6B966A1C4F1</td>\n",
       "      <td>B706835DE79A2B4E80506F582AF3676A</td>\n",
       "      <td>E9EB60E3DA311FAE308A2DB53B6CCBAC</td>\n",
       "      <td>Queued</td>\n",
       "      <td>2023-12-05 07:51:25.443000000</td>\n",
       "      <td>2023-12-04 16:00:00</td>\n",
       "      <td>NaN</td>\n",
       "      <td>NaN</td>\n",
       "      <td>Consultation</td>\n",
       "      <td>False</td>\n",
       "    </tr>\n",
       "    <tr>\n",
       "      <th>9752929</th>\n",
       "      <td>84E3EB4A060096C3702D33F5A52E8B43</td>\n",
       "      <td>CCFC2D538DDFF519D893A6B966A1C4F1</td>\n",
       "      <td>B706835DE79A2B4E80506F582AF3676A</td>\n",
       "      <td>EFE2DDFD855E2B4E1C67956CE1CE8A6E</td>\n",
       "      <td>Queued</td>\n",
       "      <td>2024-01-04 06:11:06.437000000</td>\n",
       "      <td>2024-01-03 16:00:00</td>\n",
       "      <td>2024-01-04 08:00:00</td>\n",
       "      <td>2024-01-04 08:15:00</td>\n",
       "      <td>Consultation</td>\n",
       "      <td>False</td>\n",
       "    </tr>\n",
       "    <tr>\n",
       "      <th>9752930</th>\n",
       "      <td>2B9F701BED6F68800637ADB7EF4CACE2</td>\n",
       "      <td>CCFC2D538DDFF519D893A6B966A1C4F1</td>\n",
       "      <td>B706835DE79A2B4E80506F582AF3676A</td>\n",
       "      <td>434410208F17F50143E1CE66E4CEF23F</td>\n",
       "      <td>Queued</td>\n",
       "      <td>2024-01-13 06:12:54.737000000</td>\n",
       "      <td>2024-01-12 16:00:00</td>\n",
       "      <td>2024-01-13 08:00:00</td>\n",
       "      <td>2024-01-13 08:15:00</td>\n",
       "      <td>Consultation</td>\n",
       "      <td>False</td>\n",
       "    </tr>\n",
       "    <tr>\n",
       "      <th>9752931</th>\n",
       "      <td>2ED01D09EF929AE3CA7564A2CB09DC2C</td>\n",
       "      <td>40F4775D64533EE66E3E20AE64228661</td>\n",
       "      <td>B706835DE79A2B4E80506F582AF3676A</td>\n",
       "      <td>62D462EFFD157E70C4301E555962D44B</td>\n",
       "      <td>Queued</td>\n",
       "      <td>2024-01-04 00:45:05.063000000</td>\n",
       "      <td>2024-01-03 16:00:00</td>\n",
       "      <td>2024-01-04 02:30:00</td>\n",
       "      <td>2024-01-04 02:45:00</td>\n",
       "      <td>Consultation</td>\n",
       "      <td>False</td>\n",
       "    </tr>\n",
       "  </tbody>\n",
       "</table>\n",
       "<p>9432794 rows × 11 columns</p>\n",
       "</div>"
      ],
      "text/plain": [
       "                                     pxid                          clinicid  \\\n",
       "0        EF196B348A49FB32DABC9834DC4FAAD9  ADF7EE2DCF142B0E11888E72B43FCB75   \n",
       "1        EAE3C87D0B33351272F2E9B9B1B56217  1E0F65EB20ACBFB27EE05DDC000B50EC   \n",
       "2        7C5C93809D626CC702D08F33985B2B58  1E0F65EB20ACBFB27EE05DDC000B50EC   \n",
       "3        C300C2B9E0E5D4C46E8093BCDBFA05CA  98C39996BF1543E974747A2549B3107C   \n",
       "4        B3DBE7F9E4DC33CBC5660E0A923CF8E8  77EE3BC58CE560B86C2B59363281E914   \n",
       "...                                   ...                               ...   \n",
       "9752927  2583E761CF4CAB4813AAEAFDAA883CC6  CCFC2D538DDFF519D893A6B966A1C4F1   \n",
       "9752928  F51E6BF96EA5028AE5F5C01EBF08E3BD  CCFC2D538DDFF519D893A6B966A1C4F1   \n",
       "9752929  84E3EB4A060096C3702D33F5A52E8B43  CCFC2D538DDFF519D893A6B966A1C4F1   \n",
       "9752930  2B9F701BED6F68800637ADB7EF4CACE2  CCFC2D538DDFF519D893A6B966A1C4F1   \n",
       "9752931  2ED01D09EF929AE3CA7564A2CB09DC2C  40F4775D64533EE66E3E20AE64228661   \n",
       "\n",
       "                                 doctorid                            apptid  \\\n",
       "0        BB04AF0F7ECAEE4AAE62035497DA1387  C1CC0949B93D00A559F7A0BD38361E80   \n",
       "1        82AA4B0AF34C2313A562076992E50AA3  6585A31C60A1886FBA1433C50012B504   \n",
       "2        82AA4B0AF34C2313A562076992E50AA3  7250DCFF615E6580295C7E6ED4322371   \n",
       "3        AD61AB143223EFBC24C7D2583BE69251  F5BBDCC08E39332F0AC27BB95CF1396A   \n",
       "4        AD61AB143223EFBC24C7D2583BE69251  55783FB42A02DABC3B2ED239B924DC87   \n",
       "...                                   ...                               ...   \n",
       "9752927  B706835DE79A2B4E80506F582AF3676A  215A26E2E5B831D87C41A5C1CC382B1C   \n",
       "9752928  B706835DE79A2B4E80506F582AF3676A  E9EB60E3DA311FAE308A2DB53B6CCBAC   \n",
       "9752929  B706835DE79A2B4E80506F582AF3676A  EFE2DDFD855E2B4E1C67956CE1CE8A6E   \n",
       "9752930  B706835DE79A2B4E80506F582AF3676A  434410208F17F50143E1CE66E4CEF23F   \n",
       "9752931  B706835DE79A2B4E80506F582AF3676A  62D462EFFD157E70C4301E555962D44B   \n",
       "\n",
       "           status                     TimeQueued            QueueDate  \\\n",
       "0        Complete            2018-04-11 01:59:58  2018-04-10 16:00:00   \n",
       "1          Queued            2018-04-10 10:34:16  2018-04-08 16:00:00   \n",
       "2          Queued            2018-04-03 15:26:19  2018-03-30 16:00:00   \n",
       "3          Queued  2015-11-24 08:01:13.920000000                  NaN   \n",
       "4          Queued  2015-11-24 08:01:00.420000000                  NaN   \n",
       "...           ...                            ...                  ...   \n",
       "9752927    Queued  2023-11-20 00:34:25.337000000  2023-11-22 16:00:00   \n",
       "9752928    Queued  2023-12-05 07:51:25.443000000  2023-12-04 16:00:00   \n",
       "9752929    Queued  2024-01-04 06:11:06.437000000  2024-01-03 16:00:00   \n",
       "9752930    Queued  2024-01-13 06:12:54.737000000  2024-01-12 16:00:00   \n",
       "9752931    Queued  2024-01-04 00:45:05.063000000  2024-01-03 16:00:00   \n",
       "\n",
       "                   StartTime              EndTime          type Virtual  \n",
       "0                        NaN                  NaN  Consultation     NaN  \n",
       "1        2018-04-09 10:33:00  2018-04-12 05:29:57     Inpatient     NaN  \n",
       "2        2018-03-31 15:25:00  2018-04-05 15:51:47     Inpatient     NaN  \n",
       "3                        NaN                  NaN  Consultation     NaN  \n",
       "4                        NaN                  NaN  Consultation     NaN  \n",
       "...                      ...                  ...           ...     ...  \n",
       "9752927                  NaN                  NaN  Consultation   False  \n",
       "9752928                  NaN                  NaN  Consultation   False  \n",
       "9752929  2024-01-04 08:00:00  2024-01-04 08:15:00  Consultation   False  \n",
       "9752930  2024-01-13 08:00:00  2024-01-13 08:15:00  Consultation   False  \n",
       "9752931  2024-01-04 02:30:00  2024-01-04 02:45:00  Consultation   False  \n",
       "\n",
       "[9432794 rows x 11 columns]"
      ]
     },
     "execution_count": 15,
     "metadata": {},
     "output_type": "execute_result"
    }
   ],
   "source": [
    "# check if appt_df has any pxid that is not in px_df\n",
    "appt_df[~appt_df['pxid'].isin(px_df['pxid'])]"
   ]
  },
  {
   "cell_type": "code",
   "execution_count": 16,
   "metadata": {},
   "outputs": [
    {
     "name": "stdout",
     "output_type": "stream",
     "text": [
      "(9752932, 11)\n",
      "(320138, 11)\n"
     ]
    }
   ],
   "source": [
    "# drop all rows in appt_df where pxid is not in px_df\n",
    "print(appt_df.shape)\n",
    "appt_df = appt_df[appt_df['pxid'].isin(px_df['pxid'])]\n",
    "print(appt_df.shape)"
   ]
  },
  {
   "cell_type": "code",
   "execution_count": 17,
   "metadata": {},
   "outputs": [
    {
     "data": {
      "text/plain": [
       "True"
      ]
     },
     "execution_count": 17,
     "metadata": {},
     "output_type": "execute_result"
    }
   ],
   "source": [
    "# check if all clinicid are unique\n",
    "clinics_df['clinicid'].is_unique"
   ]
  },
  {
   "cell_type": "code",
   "execution_count": 18,
   "metadata": {},
   "outputs": [
    {
     "data": {
      "text/plain": [
       "True"
      ]
     },
     "execution_count": 18,
     "metadata": {},
     "output_type": "execute_result"
    }
   ],
   "source": [
    "# check if all doctorid are unique\n",
    "doctors_df['doctorid'].is_unique"
   ]
  },
  {
   "cell_type": "code",
   "execution_count": 19,
   "metadata": {},
   "outputs": [
    {
     "data": {
      "text/html": [
       "<div>\n",
       "<style scoped>\n",
       "    .dataframe tbody tr th:only-of-type {\n",
       "        vertical-align: middle;\n",
       "    }\n",
       "\n",
       "    .dataframe tbody tr th {\n",
       "        vertical-align: top;\n",
       "    }\n",
       "\n",
       "    .dataframe thead th {\n",
       "        text-align: right;\n",
       "    }\n",
       "</style>\n",
       "<table border=\"1\" class=\"dataframe\">\n",
       "  <thead>\n",
       "    <tr style=\"text-align: right;\">\n",
       "      <th></th>\n",
       "      <th>pxid</th>\n",
       "      <th>clinicid</th>\n",
       "      <th>doctorid</th>\n",
       "      <th>apptid</th>\n",
       "      <th>status</th>\n",
       "      <th>TimeQueued</th>\n",
       "      <th>QueueDate</th>\n",
       "      <th>StartTime</th>\n",
       "      <th>EndTime</th>\n",
       "      <th>type</th>\n",
       "      <th>Virtual</th>\n",
       "    </tr>\n",
       "  </thead>\n",
       "  <tbody>\n",
       "  </tbody>\n",
       "</table>\n",
       "</div>"
      ],
      "text/plain": [
       "Empty DataFrame\n",
       "Columns: [pxid, clinicid, doctorid, apptid, status, TimeQueued, QueueDate, StartTime, EndTime, type, Virtual]\n",
       "Index: []"
      ]
     },
     "execution_count": 19,
     "metadata": {},
     "output_type": "execute_result"
    }
   ],
   "source": [
    "# check if appt_df has any doctorid that is not in doctors_df\n",
    "appt_df[~appt_df['doctorid'].isin(doctors_df['doctorid'])]"
   ]
  },
  {
   "cell_type": "code",
   "execution_count": 20,
   "metadata": {},
   "outputs": [
    {
     "data": {
      "text/html": [
       "<div>\n",
       "<style scoped>\n",
       "    .dataframe tbody tr th:only-of-type {\n",
       "        vertical-align: middle;\n",
       "    }\n",
       "\n",
       "    .dataframe tbody tr th {\n",
       "        vertical-align: top;\n",
       "    }\n",
       "\n",
       "    .dataframe thead th {\n",
       "        text-align: right;\n",
       "    }\n",
       "</style>\n",
       "<table border=\"1\" class=\"dataframe\">\n",
       "  <thead>\n",
       "    <tr style=\"text-align: right;\">\n",
       "      <th></th>\n",
       "      <th>pxid</th>\n",
       "      <th>clinicid</th>\n",
       "      <th>doctorid</th>\n",
       "      <th>apptid</th>\n",
       "      <th>status</th>\n",
       "      <th>TimeQueued</th>\n",
       "      <th>QueueDate</th>\n",
       "      <th>StartTime</th>\n",
       "      <th>EndTime</th>\n",
       "      <th>type</th>\n",
       "      <th>Virtual</th>\n",
       "    </tr>\n",
       "  </thead>\n",
       "  <tbody>\n",
       "  </tbody>\n",
       "</table>\n",
       "</div>"
      ],
      "text/plain": [
       "Empty DataFrame\n",
       "Columns: [pxid, clinicid, doctorid, apptid, status, TimeQueued, QueueDate, StartTime, EndTime, type, Virtual]\n",
       "Index: []"
      ]
     },
     "execution_count": 20,
     "metadata": {},
     "output_type": "execute_result"
    }
   ],
   "source": [
    "# check if appt_df has any clinicid that is not in clinics_df\n",
    "appt_df[~appt_df['clinicid'].isin(clinics_df['clinicid'])]"
   ]
  },
  {
   "cell_type": "code",
   "execution_count": 21,
   "metadata": {},
   "outputs": [
    {
     "data": {
      "text/plain": [
       "(320138, 11)"
      ]
     },
     "execution_count": 21,
     "metadata": {},
     "output_type": "execute_result"
    }
   ],
   "source": [
    "# limit appt_df to the first 100k rows\n",
    "appt_df.shape"
   ]
  },
  {
   "cell_type": "code",
   "execution_count": 22,
   "metadata": {},
   "outputs": [
    {
     "data": {
      "text/plain": [
       "pxid               0\n",
       "clinicid           0\n",
       "doctorid           0\n",
       "apptid             0\n",
       "status             0\n",
       "TimeQueued         0\n",
       "QueueDate          0\n",
       "StartTime     116530\n",
       "EndTime       259986\n",
       "type               0\n",
       "Virtual       190134\n",
       "dtype: int64"
      ]
     },
     "execution_count": 22,
     "metadata": {},
     "output_type": "execute_result"
    }
   ],
   "source": [
    "appt_df.isna().sum()"
   ]
  }
 ],
 "metadata": {
  "kernelspec": {
   "display_name": "Python 3",
   "language": "python",
   "name": "python3"
  },
  "language_info": {
   "codemirror_mode": {
    "name": "ipython",
    "version": 3
   },
   "file_extension": ".py",
   "mimetype": "text/x-python",
   "name": "python",
   "nbconvert_exporter": "python",
   "pygments_lexer": "ipython3",
   "version": "3.11.4"
  }
 },
 "nbformat": 4,
 "nbformat_minor": 2
}
